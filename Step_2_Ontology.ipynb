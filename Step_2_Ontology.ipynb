{
 "cells": [
  {
   "cell_type": "markdown",
   "id": "0ac44980-4262-4cbc-97f2-627f7c2e8305",
   "metadata": {},
   "source": [
    "# ** AI & Cognition Project**\n",
    "# Phase II - Ontology Extraction\n",
    " \n",
    " 5 DS 1 - \n",
    " Group 1:\n",
    "\n",
    "*   Med Anas FATTOUM\n",
    "*   Iskander REGAIEG\n",
    "*   Youssef Aziz ZGHAL\n",
    "*   Haroun ELLEUCH\n",
    "*   Saida MAJBOUR\n",
    "*   Nadhir BOUHAOUALA\n"
   ]
  },
  {
   "cell_type": "markdown",
   "id": "fb9fcc20-418d-45dd-b103-bb97d8278932",
   "metadata": {
    "tags": []
   },
   "source": [
    "# Setting up the environment"
   ]
  },
  {
   "cell_type": "code",
   "execution_count": 1,
   "id": "ebba698c-2ca6-4a58-9a2f-8fc27ea2e6df",
   "metadata": {},
   "outputs": [],
   "source": [
    "#Libraries imports\n",
    "\n",
    "import time\n",
    "\n",
    "import matplotlib.pyplot as plt\n",
    "import glob\n",
    "import re #regex\n",
    "import numpy as np\n",
    "import pandas as pd\n",
    "#import PyPDF2\n",
    "import html\n",
    "import unidecode\n",
    "\n",
    "from IPython.display import Image, display\n",
    "\n",
    "import spacy\n",
    "from spacy.matcher import Matcher \n",
    "import visualise_spacy_tree\n",
    "from spacy import displacy \n",
    "from spacy.tokens import DocBin\n",
    "import textacy\n",
    "\n",
    "\n",
    "import nltk\n",
    "from nltk.corpus import wordnet\n",
    "from nltk.corpus import verbnet\n",
    "from nltk.metrics import *\n",
    "#from nltk.corpus import stopwords\n",
    "\n",
    "from collections import Counter\n",
    "import seaborn as sns; sns.set_theme()\n",
    "from sklearn.feature_extraction.text import TfidfVectorizer"
   ]
  },
  {
   "cell_type": "code",
   "execution_count": 2,
   "id": "c3065c9b-f0fd-440b-b688-73bd94b4dbae",
   "metadata": {},
   "outputs": [],
   "source": [
    "# importing custom libraries\n",
    "from utils import *\n",
    "from ontology_utils import *"
   ]
  },
  {
   "cell_type": "markdown",
   "id": "a3c64484-8fc5-45fe-94da-248fa736323b",
   "metadata": {
    "jp-MarkdownHeadingCollapsed": true,
    "tags": []
   },
   "source": [
    "# Concept Hierarchy Extraction"
   ]
  },
  {
   "cell_type": "code",
   "execution_count": 3,
   "id": "b7c05666-df27-44d8-9d43-36d2accaf7f5",
   "metadata": {},
   "outputs": [],
   "source": [
    "df_hc = extract_annotations(\"PMBOK5.pdf\")"
   ]
  },
  {
   "cell_type": "markdown",
   "id": "81d4e0b5-225f-4a33-9729-4932259223a4",
   "metadata": {
    "jp-MarkdownHeadingCollapsed": true,
    "tags": []
   },
   "source": [
    "## Pre-processing annotations"
   ]
  },
  {
   "cell_type": "markdown",
   "id": "0de9a940-34aa-4fdc-b395-6b8eb8d7f48d",
   "metadata": {},
   "source": [
    "The following cell aims to remove special caracters, lowering the text and removing uselesss text."
   ]
  },
  {
   "cell_type": "code",
   "execution_count": 4,
   "id": "17a67e8d-f1f5-44e3-abb5-f4794a26afc7",
   "metadata": {},
   "outputs": [],
   "source": [
    "for i in range(len(df_hc)):\n",
    "    df_hc[0][i] = clean_annotation(df_hc[0][i])\n",
    "#df_hc"
   ]
  },
  {
   "cell_type": "markdown",
   "id": "fc7f15db-3698-4f49-ad6e-8dbce5539b94",
   "metadata": {},
   "source": [
    "## Pre-processing titles"
   ]
  },
  {
   "cell_type": "code",
   "execution_count": 5,
   "id": "d44f85ce-39b1-4731-abed-a6a10993f259",
   "metadata": {},
   "outputs": [],
   "source": [
    "# Flattening the index\n",
    "df_hc = df_hc.reset_index()\n",
    "df_hc = df_hc.rename(columns = {0 : 'annotation'})\n",
    "df_hc = df_hc.drop(columns = ['level_3'])"
   ]
  },
  {
   "cell_type": "code",
   "execution_count": 6,
   "id": "ce6fe426-732f-4603-94ae-d8b0d27b23bc",
   "metadata": {},
   "outputs": [],
   "source": [
    "for i in range(len(df_hc)):\n",
    "    # print(df_hc.title[i],'           ',clean_title(df_hc.title[i]))\n",
    "    df_hc.title[i] = clean_title(df_hc.title[i])\n",
    "    df_hc.sub_title[i] = clean_title(df_hc.sub_title[i])\n",
    "    df_hc.sub_title[i] = df_hc.sub_title[i].replace(df_hc.title[i],'')\n",
    "    df_hc.sub_title[i] = df_hc.sub_title[i].replace(':_','')\n",
    "    df_hc.sub_sub_title[i] = clean_title(df_hc.sub_sub_title[i])"
   ]
  },
  {
   "cell_type": "markdown",
   "id": "c18f1b4e-45cc-4493-9196-05fb6a111a8c",
   "metadata": {
    "tags": []
   },
   "source": [
    "# Creating the graph"
   ]
  },
  {
   "cell_type": "code",
   "execution_count": 7,
   "id": "8379454e-b5b6-4fb0-91bc-a3bd3cb8d45f",
   "metadata": {},
   "outputs": [],
   "source": [
    "from rdflib.namespace import DC, DCTERMS, DOAP, FOAF, OWL, RDF, RDFS, SKOS, VOID, XMLNS, XSD\n",
    "from rdflib import URIRef, BNode, Literal, Namespace, Graph, ConjunctiveGraph\n",
    "from rdflib.extras import describer"
   ]
  },
  {
   "cell_type": "markdown",
   "id": "c2dd8af6-4be1-418e-8f3f-e599e2748d67",
   "metadata": {},
   "source": [
    "Generating the graph to which the data will be appended."
   ]
  },
  {
   "cell_type": "code",
   "execution_count": 8,
   "id": "9181d629-9e55-4a7a-a3ee-d44130eb2d67",
   "metadata": {},
   "outputs": [
    {
     "data": {
      "text/plain": [
       "<Graph identifier=Nf0c8b9f33b2849ff83a4af159f1bd327 (<class 'rdflib.graph.Graph'>)>"
      ]
     },
     "execution_count": 8,
     "metadata": {},
     "output_type": "execute_result"
    }
   ],
   "source": [
    "g = Graph()\n",
    "g.parse()\n",
    "g.bind(\"owl\",OWL)\n",
    "ns_url = \"http://5ds1.g1.com/h#\"\n",
    "g.bind(\"pai\",ns_url)#Bind prefix to namespace\n",
    "# Create an RDF URI node to use as the subject for multiple triples\n",
    "g.add((URIRef('http://5ds1.g1.com/h'), RDF.type, OWL.Ontology ))"
   ]
  },
  {
   "cell_type": "markdown",
   "id": "3691277d-d02b-42c2-9b03-4f42857c5b13",
   "metadata": {
    "jp-MarkdownHeadingCollapsed": true,
    "tags": []
   },
   "source": [
    "## Adding Classes and Sub-Classes"
   ]
  },
  {
   "cell_type": "code",
   "execution_count": 9,
   "id": "bf422a08-53b1-4720-9e2d-a99bc2dfd9f6",
   "metadata": {},
   "outputs": [
    {
     "data": {
      "text/plain": [
       "<Graph identifier=Nf0c8b9f33b2849ff83a4af159f1bd327 (<class 'rdflib.graph.Graph'>)>"
      ]
     },
     "execution_count": 9,
     "metadata": {},
     "output_type": "execute_result"
    }
   ],
   "source": [
    "# Creating Generic Classes\n",
    "tools_class =  URIRef(ns_url+'tools_techniques')\n",
    "inputs_class =  URIRef(ns_url+'input')\n",
    "outputs_class =  URIRef(ns_url+'outputs')\n",
    "\n",
    "# Adding Generic Classes\n",
    "g.add((tools_class, RDF.type, OWL.Class))\n",
    "g.add((inputs_class, RDF.type, OWL.Class))\n",
    "g.add((outputs_class, RDF.type, OWL.Class))"
   ]
  },
  {
   "cell_type": "code",
   "execution_count": 10,
   "id": "6efc3f09-7ea4-44ce-a951-d2d3815adf0f",
   "metadata": {},
   "outputs": [],
   "source": [
    "#Data frame for Classes and Sub-Classes\n",
    "df_classes_sub = df_hc[['title','sub_title']]\n",
    "df_classes_sub = df_classes_sub.drop_duplicates()\n",
    "df_classes_sub = df_classes_sub[df_classes_sub.sub_title != '']\n",
    "\n",
    "# df_classes_sub"
   ]
  },
  {
   "cell_type": "code",
   "execution_count": 11,
   "id": "dd3daca6-6521-4765-aad8-375c6e3a7837",
   "metadata": {},
   "outputs": [
    {
     "data": {
      "text/html": [
       "<div>\n",
       "<style scoped>\n",
       "    .dataframe tbody tr th:only-of-type {\n",
       "        vertical-align: middle;\n",
       "    }\n",
       "\n",
       "    .dataframe tbody tr th {\n",
       "        vertical-align: top;\n",
       "    }\n",
       "\n",
       "    .dataframe thead th {\n",
       "        text-align: right;\n",
       "    }\n",
       "</style>\n",
       "<table border=\"1\" class=\"dataframe\">\n",
       "  <thead>\n",
       "    <tr style=\"text-align: right;\">\n",
       "      <th></th>\n",
       "      <th>title</th>\n",
       "      <th>sub_title</th>\n",
       "    </tr>\n",
       "  </thead>\n",
       "  <tbody>\n",
       "    <tr>\n",
       "      <th>1</th>\n",
       "      <td>plan_risk_management</td>\n",
       "      <td>inputs</td>\n",
       "    </tr>\n",
       "    <tr>\n",
       "      <th>6</th>\n",
       "      <td>plan_risk_management</td>\n",
       "      <td>tools_and_techniques</td>\n",
       "    </tr>\n",
       "    <tr>\n",
       "      <th>9</th>\n",
       "      <td>plan_risk_management</td>\n",
       "      <td>outputs</td>\n",
       "    </tr>\n",
       "    <tr>\n",
       "      <th>11</th>\n",
       "      <td>identify_risks</td>\n",
       "      <td>inputs</td>\n",
       "    </tr>\n",
       "    <tr>\n",
       "      <th>24</th>\n",
       "      <td>identify_risks</td>\n",
       "      <td>tools_and_techniques</td>\n",
       "    </tr>\n",
       "    <tr>\n",
       "      <th>31</th>\n",
       "      <td>identify_risks</td>\n",
       "      <td>risk_register</td>\n",
       "    </tr>\n",
       "    <tr>\n",
       "      <th>33</th>\n",
       "      <td>perform_qualitative_risk_analysis</td>\n",
       "      <td>inputs</td>\n",
       "    </tr>\n",
       "    <tr>\n",
       "      <th>38</th>\n",
       "      <td>perform_qualitative_risk_analysis</td>\n",
       "      <td>tools_and_techniques</td>\n",
       "    </tr>\n",
       "    <tr>\n",
       "      <th>44</th>\n",
       "      <td>perform_qualitative_risk_analysis</td>\n",
       "      <td>outputs</td>\n",
       "    </tr>\n",
       "    <tr>\n",
       "      <th>46</th>\n",
       "      <td>perform_quantitative_risk_analysis</td>\n",
       "      <td>inputs</td>\n",
       "    </tr>\n",
       "    <tr>\n",
       "      <th>52</th>\n",
       "      <td>perform_quantitative_risk_analysis</td>\n",
       "      <td>tools_and_techniques</td>\n",
       "    </tr>\n",
       "    <tr>\n",
       "      <th>55</th>\n",
       "      <td>perform_quantitative_risk_analysis</td>\n",
       "      <td>outputs</td>\n",
       "    </tr>\n",
       "    <tr>\n",
       "      <th>57</th>\n",
       "      <td>plan_risk_responses</td>\n",
       "      <td>inputs</td>\n",
       "    </tr>\n",
       "    <tr>\n",
       "      <th>59</th>\n",
       "      <td>plan_risk_responses</td>\n",
       "      <td>tools_and_techniques</td>\n",
       "    </tr>\n",
       "    <tr>\n",
       "      <th>64</th>\n",
       "      <td>plan_risk_responses</td>\n",
       "      <td>outputs</td>\n",
       "    </tr>\n",
       "    <tr>\n",
       "      <th>67</th>\n",
       "      <td>control_risks</td>\n",
       "      <td>inputs</td>\n",
       "    </tr>\n",
       "    <tr>\n",
       "      <th>71</th>\n",
       "      <td>control_risks</td>\n",
       "      <td>tools_and_techniques</td>\n",
       "    </tr>\n",
       "    <tr>\n",
       "      <th>77</th>\n",
       "      <td>control_risks</td>\n",
       "      <td>outputs</td>\n",
       "    </tr>\n",
       "  </tbody>\n",
       "</table>\n",
       "</div>"
      ],
      "text/plain": [
       "                                 title             sub_title\n",
       "1                 plan_risk_management                inputs\n",
       "6                 plan_risk_management  tools_and_techniques\n",
       "9                 plan_risk_management               outputs\n",
       "11                      identify_risks                inputs\n",
       "24                      identify_risks  tools_and_techniques\n",
       "31                      identify_risks         risk_register\n",
       "33   perform_qualitative_risk_analysis                inputs\n",
       "38   perform_qualitative_risk_analysis  tools_and_techniques\n",
       "44   perform_qualitative_risk_analysis               outputs\n",
       "46  perform_quantitative_risk_analysis                inputs\n",
       "52  perform_quantitative_risk_analysis  tools_and_techniques\n",
       "55  perform_quantitative_risk_analysis               outputs\n",
       "57                 plan_risk_responses                inputs\n",
       "59                 plan_risk_responses  tools_and_techniques\n",
       "64                 plan_risk_responses               outputs\n",
       "67                       control_risks                inputs\n",
       "71                       control_risks  tools_and_techniques\n",
       "77                       control_risks               outputs"
      ]
     },
     "execution_count": 11,
     "metadata": {},
     "output_type": "execute_result"
    }
   ],
   "source": [
    "df_classes_sub"
   ]
  },
  {
   "cell_type": "code",
   "execution_count": 12,
   "id": "d59df81e-733d-4653-856c-696c51803e75",
   "metadata": {},
   "outputs": [],
   "source": [
    "for i in range(len(df_classes_sub)):\n",
    "    parent_class = URIRef(ns_url+df_classes_sub.iloc[i,0])\n",
    "    sub_class = URIRef(ns_url+df_classes_sub.iloc[i,0]+\"#\"+df_classes_sub.iloc[i,1])\n",
    "    # Adding class\n",
    "    g.add((parent_class, RDF.type, OWL.Class))\n",
    "    # Adding sub-class\n",
    "    g.add((sub_class, RDFS.subClassOf, parent_class))\n",
    "    \n",
    "    # Affecting to generic classes\n",
    "    if (df_classes_sub.iloc[i,1] == 'inputs'):\n",
    "        g.add((sub_class, RDFS.subClassOf, inputs_class))\n",
    "    elif (df_classes_sub.iloc[i,1] == 'outputs'):\n",
    "        g.add((sub_class, RDFS.subClassOf, outputs_class))\n",
    "    elif (df_classes_sub.iloc[i,1] == 'tools_and_techniques'):\n",
    "        g.add((sub_class, RDFS.subClassOf, tools_class)) "
   ]
  },
  {
   "cell_type": "markdown",
   "id": "f0a715a6-f916-4210-8714-9de4b87720b1",
   "metadata": {
    "jp-MarkdownHeadingCollapsed": true,
    "tags": []
   },
   "source": [
    "## Adding indivduals"
   ]
  },
  {
   "cell_type": "code",
   "execution_count": 13,
   "id": "9c70a404-c36d-433e-aac3-654373ab758d",
   "metadata": {},
   "outputs": [],
   "source": [
    "for i in range(len(df_hc)):\n",
    "    pc = df_hc.iloc[i,0]\n",
    "    sc = df_hc.iloc[i,1]\n",
    "    ind = df_hc.iloc[i,2]\n",
    "    \n",
    "    sub_class = URIRef(ns_url+pc+\"#\"+sc)\n",
    "    ind = URIRef(ns_url+ind)\n",
    "\n",
    "    # Adding the individual to the graph\n",
    "    g.add((ind, RDF.type, sub_class))"
   ]
  },
  {
   "cell_type": "markdown",
   "id": "2c7cb956-8e87-4a32-b7fa-951fd66c075f",
   "metadata": {
    "jp-MarkdownHeadingCollapsed": true,
    "tags": []
   },
   "source": [
    "## Adding annotations"
   ]
  },
  {
   "cell_type": "markdown",
   "id": "396192a5-f0fa-419a-84fd-1246e14005c1",
   "metadata": {
    "tags": []
   },
   "source": [
    "### Adding annotations for Classes"
   ]
  },
  {
   "cell_type": "code",
   "execution_count": 14,
   "id": "6ff71ce1-6ebc-4faf-b6b1-e928d40a1216",
   "metadata": {},
   "outputs": [],
   "source": [
    "#Data frame for Classes and their annotations\n",
    "df_classes_ann = df_hc[['title','annotation']].loc[(df_hc.sub_title == '') ]"
   ]
  },
  {
   "cell_type": "code",
   "execution_count": 15,
   "id": "9468785c-f51e-429d-b0c3-71974aa21824",
   "metadata": {},
   "outputs": [
    {
     "data": {
      "text/html": [
       "<div>\n",
       "<style scoped>\n",
       "    .dataframe tbody tr th:only-of-type {\n",
       "        vertical-align: middle;\n",
       "    }\n",
       "\n",
       "    .dataframe tbody tr th {\n",
       "        vertical-align: top;\n",
       "    }\n",
       "\n",
       "    .dataframe thead th {\n",
       "        text-align: right;\n",
       "    }\n",
       "</style>\n",
       "<table border=\"1\" class=\"dataframe\">\n",
       "  <thead>\n",
       "    <tr style=\"text-align: right;\">\n",
       "      <th></th>\n",
       "      <th>title</th>\n",
       "      <th>annotation</th>\n",
       "    </tr>\n",
       "  </thead>\n",
       "  <tbody>\n",
       "    <tr>\n",
       "      <th>0</th>\n",
       "      <td>plan_risk_management</td>\n",
       "      <td>plan risk management is the process of definin...</td>\n",
       "    </tr>\n",
       "    <tr>\n",
       "      <th>10</th>\n",
       "      <td>identify_risks</td>\n",
       "      <td>identify risks is the process of determining w...</td>\n",
       "    </tr>\n",
       "  </tbody>\n",
       "</table>\n",
       "</div>"
      ],
      "text/plain": [
       "                   title                                         annotation\n",
       "0   plan_risk_management  plan risk management is the process of definin...\n",
       "10        identify_risks  identify risks is the process of determining w..."
      ]
     },
     "execution_count": 15,
     "metadata": {},
     "output_type": "execute_result"
    }
   ],
   "source": [
    "df_classes_ann.head(2)"
   ]
  },
  {
   "cell_type": "code",
   "execution_count": 16,
   "id": "8e99f586-e268-46ef-8461-cf22394912af",
   "metadata": {},
   "outputs": [],
   "source": [
    "for i in range(len(df_classes_ann)):\n",
    "    cl = URIRef(ns_url+df_classes_ann.iloc[i,0])\n",
    "    desc = df_classes_ann.iloc[i,1]\n",
    "    # g.set((cl, RDFS.comment, Literal(desc))) \n",
    "    g.set((cl, RDFS.isDefinedBy, Literal(desc)))"
   ]
  },
  {
   "cell_type": "markdown",
   "id": "23159716-81eb-48c1-ac74-0441f56474b7",
   "metadata": {
    "tags": []
   },
   "source": [
    "### Adding annotations for Sub-Classes"
   ]
  },
  {
   "cell_type": "code",
   "execution_count": 17,
   "id": "5f7651d8-7f19-4e3b-b561-c357bfb95d55",
   "metadata": {},
   "outputs": [],
   "source": [
    "#Data frame for Sub-Classes and their annotations\n",
    "df_sub_classes_ann = df_hc[['title','sub_title','annotation']].loc[(df_hc.sub_sub_title == '') & (df_hc.sub_title != '')]"
   ]
  },
  {
   "cell_type": "code",
   "execution_count": 18,
   "id": "6618372a-ebf7-4e20-8e62-e2f1e134ad6d",
   "metadata": {},
   "outputs": [
    {
     "data": {
      "text/html": [
       "<div>\n",
       "<style scoped>\n",
       "    .dataframe tbody tr th:only-of-type {\n",
       "        vertical-align: middle;\n",
       "    }\n",
       "\n",
       "    .dataframe tbody tr th {\n",
       "        vertical-align: top;\n",
       "    }\n",
       "\n",
       "    .dataframe thead th {\n",
       "        text-align: right;\n",
       "    }\n",
       "</style>\n",
       "<table border=\"1\" class=\"dataframe\">\n",
       "  <thead>\n",
       "    <tr style=\"text-align: right;\">\n",
       "      <th></th>\n",
       "      <th>title</th>\n",
       "      <th>sub_title</th>\n",
       "      <th>annotation</th>\n",
       "    </tr>\n",
       "  </thead>\n",
       "  <tbody>\n",
       "    <tr>\n",
       "      <th>31</th>\n",
       "      <td>identify_risks</td>\n",
       "      <td>risk_register</td>\n",
       "      <td>the primary output from identify risks is the ...</td>\n",
       "    </tr>\n",
       "    <tr>\n",
       "      <th>59</th>\n",
       "      <td>plan_risk_responses</td>\n",
       "      <td>tools_and_techniques</td>\n",
       "      <td>several risk response strategies are available...</td>\n",
       "    </tr>\n",
       "  </tbody>\n",
       "</table>\n",
       "</div>"
      ],
      "text/plain": [
       "                  title             sub_title  \\\n",
       "31       identify_risks         risk_register   \n",
       "59  plan_risk_responses  tools_and_techniques   \n",
       "\n",
       "                                           annotation  \n",
       "31  the primary output from identify risks is the ...  \n",
       "59  several risk response strategies are available...  "
      ]
     },
     "execution_count": 18,
     "metadata": {},
     "output_type": "execute_result"
    }
   ],
   "source": [
    "df_sub_classes_ann"
   ]
  },
  {
   "cell_type": "code",
   "execution_count": 19,
   "id": "0907b38f-6d2c-4b37-b6bc-6ece315550ae",
   "metadata": {},
   "outputs": [],
   "source": [
    "for i in range(len(df_sub_classes_ann)):\n",
    "#     ns_url+df_classes_sub.iloc[i,0]+\"#\"+df_classes_sub.iloc[i,1]\n",
    "    cl = URIRef(ns_url+df_sub_classes_ann.iloc[i,0]+\"#\"+df_sub_classes_ann.iloc[i,1])\n",
    "    desc = df_sub_classes_ann.iloc[i,2]\n",
    "    g.set((cl, RDFS.comment, Literal(desc)))"
   ]
  },
  {
   "cell_type": "markdown",
   "id": "2aa2a814-9b95-4871-b92e-abaf359d6519",
   "metadata": {},
   "source": [
    "### Adding annotations for individuals ( = Sub-Sub-classes = instances)"
   ]
  },
  {
   "cell_type": "code",
   "execution_count": 20,
   "id": "1f1e9add-bb5b-48c5-892d-8d692deb428b",
   "metadata": {},
   "outputs": [
    {
     "data": {
      "text/html": [
       "<div>\n",
       "<style scoped>\n",
       "    .dataframe tbody tr th:only-of-type {\n",
       "        vertical-align: middle;\n",
       "    }\n",
       "\n",
       "    .dataframe tbody tr th {\n",
       "        vertical-align: top;\n",
       "    }\n",
       "\n",
       "    .dataframe thead th {\n",
       "        text-align: right;\n",
       "    }\n",
       "</style>\n",
       "<table border=\"1\" class=\"dataframe\">\n",
       "  <thead>\n",
       "    <tr style=\"text-align: right;\">\n",
       "      <th></th>\n",
       "      <th>sub_sub_title</th>\n",
       "      <th>annotation</th>\n",
       "    </tr>\n",
       "  </thead>\n",
       "  <tbody>\n",
       "    <tr>\n",
       "      <th>1</th>\n",
       "      <td>project_management_plan</td>\n",
       "      <td>in planning risk management, all approved subs...</td>\n",
       "    </tr>\n",
       "    <tr>\n",
       "      <th>2</th>\n",
       "      <td>project_charter</td>\n",
       "      <td>described in section 4.1.3.1. the project char...</td>\n",
       "    </tr>\n",
       "  </tbody>\n",
       "</table>\n",
       "</div>"
      ],
      "text/plain": [
       "             sub_sub_title                                         annotation\n",
       "1  project_management_plan  in planning risk management, all approved subs...\n",
       "2          project_charter  described in section 4.1.3.1. the project char..."
      ]
     },
     "execution_count": 20,
     "metadata": {},
     "output_type": "execute_result"
    }
   ],
   "source": [
    "#Data frame for individuals and their annotations\n",
    "df_indiv_ann = df_hc[['sub_sub_title','annotation']].loc[(df_hc.sub_sub_title != '')]\n",
    "df_indiv_ann.head(2)"
   ]
  },
  {
   "cell_type": "code",
   "execution_count": 21,
   "id": "28e1066a-b7ed-4e0a-a9cd-ec268bed66f2",
   "metadata": {},
   "outputs": [],
   "source": [
    "for i in range(len(df_indiv_ann)):\n",
    "    ind = URIRef(ns_url+df_indiv_ann.iloc[i,0])\n",
    "    desc = df_indiv_ann.iloc[i,1]\n",
    "    g.set((ind, RDFS.comment, Literal(desc)))    "
   ]
  },
  {
   "cell_type": "markdown",
   "id": "46be9250-53de-4cc6-9ed0-3b3e481692f4",
   "metadata": {
    "tags": []
   },
   "source": [
    "# Enriching the ontology with N-Triples from PMI and PMBOK 5th Editon"
   ]
  },
  {
   "cell_type": "markdown",
   "id": "143f55e7-d212-4c8c-acfd-a474bfd48d4d",
   "metadata": {
    "tags": []
   },
   "source": [
    "## Loading SpaCy Docs"
   ]
  },
  {
   "cell_type": "code",
   "execution_count": 22,
   "id": "6252571a-614f-4366-bbc7-692c6ae54a62",
   "metadata": {},
   "outputs": [],
   "source": [
    "# Loading the SpaCy NLP engine\n",
    "nlp = spacy.load('en_core_web_md',disable=['ner','textcat'])"
   ]
  },
  {
   "cell_type": "code",
   "execution_count": 23,
   "id": "5bdef17f-96a8-4044-9e52-7284a61a6cda",
   "metadata": {},
   "outputs": [],
   "source": [
    "# Loading the doc_bin containing the serialized docs\n",
    "doc_bin = DocBin().from_disk(\"./Data/data.spacy\")\n",
    "# Extract the docs from the doc_bin\n",
    "docs = list(doc_bin.get_docs(nlp.vocab))"
   ]
  },
  {
   "cell_type": "markdown",
   "id": "dcfff9f2-0f1b-4e8f-b25d-2f87ae449482",
   "metadata": {},
   "source": [
    "### Pre-processing docs"
   ]
  },
  {
   "cell_type": "code",
   "execution_count": 24,
   "id": "cfea75ea-c415-45bf-883f-d3b72bc4fbd8",
   "metadata": {},
   "outputs": [],
   "source": [
    "corpus=[]\n",
    "\n",
    "from nltk.corpus import stopwords\n",
    "sw = set(stopwords.words('english')) -set([\n",
    "    \"you're\", \"you've\", \"she's\", \"it's\", 'who', 'whom', 'am',  'is', 'are', 'was', 'were', 'be','been',\n",
    "    'being', 'have', 'has', 'had', 'having', 'do', 'does', 'did', 'doing',\"a\",\n",
    "    'other', 'some',  'no', 'nor', 'not', 'own', 'same',  's', 't', 'can', 'don', \"don't\", 'should',\n",
    "    \"should've\", 'now', 'd', 'll', 'm', 'o', 're', 've', 'y', 'ain', 'aren', \"aren't\", 'couldn', \"couldn't\", \n",
    "    'didn', \"didn't\", 'doesn', \"doesn't\", 'hadn', \"hadn't\", 'hasn', \"hasn't\", \"haven't\", 'isn', \"isn't\",\n",
    "    'will','such','as', 'weren', \"weren't\", 'won', \"won't\", 'wouldn', \"wouldn't\",'can'])\n",
    "def stopwords(text): \n",
    "# Removing words that contain numbers\n",
    "    text= re.sub(\"\\S*\\d\\S*\", \" \", text).strip()\n",
    "    text =re.sub('https?://\\S+|www\\.\\S+', ' ', text)\n",
    "    text=re.sub(\"\\d+\", \" \", text)\n",
    "    text = [word for word in text.split() if word not in sw]\n",
    "    j=\" \".join(text)\n",
    "    corpus.append(j)\n",
    "\n",
    "    #text = re.sub(\"[^a-zA-^Z]\", \" \", text)\n",
    "  \n",
    "    return j"
   ]
  },
  {
   "cell_type": "code",
   "execution_count": 25,
   "id": "9bca0fb9-17f1-4b42-a47e-40edf6307663",
   "metadata": {},
   "outputs": [],
   "source": [
    "# Pre-processed corpora\n",
    "corpora = []\n",
    "for doc in docs:\n",
    "    corpora.append(stopwords(doc.text))\n",
    "\n",
    "docs_processed = []\n",
    "for corpus in corpora:\n",
    "    docs_processed.append(nlp(corpus))\n",
    "\n",
    "# No further use for unprocessed docs\n",
    "docs = docs_processed"
   ]
  },
  {
   "cell_type": "markdown",
   "id": "51bd4046-0f19-42cf-87dc-300dfe912060",
   "metadata": {
    "tags": []
   },
   "source": [
    "## Realations Extraction"
   ]
  },
  {
   "cell_type": "markdown",
   "id": "6943c110-da97-4d16-9f17-d1a9a5dbfd32",
   "metadata": {},
   "source": [
    "The relations that we might be interested in are like follows: \n",
    "\n",
    "    is a\n",
    "    such as\n",
    "    kind of\n",
    "    including \n",
    "    have\n",
    "    part\n",
    "    member\n",
    "    instance\n",
    "    and or other\n",
    "    especially\n",
    "    like\n",
    "    in"
   ]
  },
  {
   "cell_type": "code",
   "execution_count": 26,
   "id": "d2af67a9-f39e-48a2-8b0d-28feff680e8b",
   "metadata": {},
   "outputs": [],
   "source": [
    "#Defining pertinent and insightful patterns to add the graph\n",
    "pattern1 = [  {'DEP':'amod','OP':\"?\"}, # adjectival modifier\n",
    "                {'POS':'NOUN'}, \n",
    "                {'LOWER': 'is'},  {'LOWER': 'a'}, \n",
    "                {'POS': 'NOUN'}]\n",
    "# Pattern such as\n",
    "pattern2 = [  {'DEP':'amod','OP':\"?\"}, # adjectival modifier \n",
    "              {'POS':'NOUN'}, \n",
    "              {'LOWER': 'such'},  {'LOWER': 'as'},\n",
    "              {'POS':'PROPN'}]\n",
    "# Pattern kind of\n",
    "pattern3 = [  {'DEP':'amod','OP':\"?\"}, # adjectival modifier \n",
    "              {'POS':'NOUN'}, \n",
    "            {'LOWER': 'kind'},  {'LOWER': 'of'}, \n",
    "              {'POS':'PROPN'}]\n",
    "# Pattern include \n",
    "pattern4 = [  {'DEP':'amod','OP':\"?\"}, # adjectival modifier \n",
    "              {'POS':'NOUN'}, \n",
    "           {'LOWER': 'include'}, \n",
    "              {'DEP':'amod','OP':\"?\"}, # adjectival modifier \n",
    "            {'POS':'NOUN'}]\n",
    "# Pattern have\n",
    "pattern5 = [  {'DEP':'amod','OP':\"?\"}, # adjectival modifier \n",
    "              {'POS':'NOUN'}, \n",
    "           {'LOWER': 'have'}, \n",
    "              {'DEP':'amod','OP':\"?\"}, # adjectival modifier \n",
    "           {'POS':'NOUN'}]\n",
    "# Pattern part\n",
    "pattern6 = [  {'DEP':'amod','OP':\"?\"}, # adjectival modifier \n",
    "              {'POS':'NOUN'}, \n",
    "           {'LOWER': 'part'}, \n",
    "              {'DEP':'amod','OP':\"?\"}, # adjectival modifier \n",
    "           {'POS':'NOUN'}]\n",
    "# Pattern member\n",
    "pattern7 = [  {'DEP':'amod','OP':\"?\"}, # adjectival modifier \n",
    "              {'POS':'NOUN'}, \n",
    "           {'LOWER': 'member'}, \n",
    "              {'DEP':'amod','OP':\"?\"}, # adjectival modifier \n",
    "           {'POS':'NOUN'}]\n",
    "# Pattern instance\n",
    "pattern8 = [  {'DEP':'amod','OP':\"?\"}, # adjectival modifier \n",
    "              {'POS':'NOUN'}, \n",
    "           {'LOWER': 'instance'}, \n",
    "              {'DEP':'amod','OP':\"?\"}, # adjectival modifier \n",
    "           {'POS':'NOUN'}]\n",
    "\n",
    "#define the pattern  and|or \n",
    "pattern9 = [{'DEP':'amod', 'OP':\"?\"}, \n",
    "           {'POS':'NOUN'}, \n",
    "           {'LOWER': 'and', 'OP':\"?\"}, \n",
    "           {'LOWER': 'or', 'OP':\"?\"}, \n",
    "           {'LOWER': 'other'}, \n",
    "           {'POS': 'NOUN'}] \n",
    "# Pattern especially\n",
    "pattern10 = [  {'DEP':'amod','OP':\"?\"}, # adjectival modifier \n",
    "              {'POS':'NOUN'}, \n",
    "           {'LOWER': 'especially'}, \n",
    "              {'DEP':'amod','OP':\"?\"}, # adjectival modifier \n",
    "           {'POS':'NOUN'}]\n",
    "# Pattern like\n",
    "pattern11 = [{'DEP':'compound', 'OP':\"*\"},\n",
    "           {'POS':'NOUN'},\n",
    "           {'LOWER': 'like'},\n",
    "           {'DEP':'compound', 'OP':\"*\"},\n",
    "           {'POS': 'NOUN'}]\n",
    "# Pattern In\n",
    "pattern11 = [{'DEP':'compound', 'OP':\"*\"},\n",
    "           {'POS':'NOUN'},\n",
    "           {'LOWER': 'In'},\n",
    "           {'DEP':'compound', 'OP':\"*\"},\n",
    "           {'POS': 'NOUN'}]"
   ]
  },
  {
   "cell_type": "markdown",
   "id": "b9ea5a0a-a218-4352-bed5-ebdb2da61611",
   "metadata": {},
   "source": [
    "Let’s extract those patterns from the text:"
   ]
  },
  {
   "cell_type": "code",
   "execution_count": 27,
   "id": "894cbab9-098d-433b-88f9-e9e1772465b9",
   "metadata": {},
   "outputs": [],
   "source": [
    "#initializing the matcher\n",
    "matcher = Matcher(nlp.vocab) \n",
    "matcher.add(\"Found matches:\", [pattern1,pattern2,pattern3,pattern4,pattern5,pattern6,pattern7,pattern8,pattern10,pattern11])"
   ]
  },
  {
   "cell_type": "code",
   "execution_count": 28,
   "id": "110450cf-8723-4a7f-baaa-42d453412c12",
   "metadata": {},
   "outputs": [],
   "source": [
    "matches = []\n",
    "spans = []\n",
    "for doc in docs:\n",
    "    m = matcher(doc)\n",
    "    matches.append(m)\n",
    "    spans.append([doc[start:end] for _, start, end in m])"
   ]
  },
  {
   "cell_type": "code",
   "execution_count": 29,
   "id": "680a0213-b1c8-49e5-be7f-e15f822e0083",
   "metadata": {},
   "outputs": [],
   "source": [
    "# These are the spans obtained\n",
    "spans\n",
    "flattened  = [val for sublist in spans for val in sublist]\n",
    "spans = flattened"
   ]
  },
  {
   "cell_type": "code",
   "execution_count": 30,
   "id": "3fde14bb-874e-4c81-8c72-3d510ea92704",
   "metadata": {},
   "outputs": [
    {
     "data": {
      "text/html": [
       "<div>\n",
       "<style scoped>\n",
       "    .dataframe tbody tr th:only-of-type {\n",
       "        vertical-align: middle;\n",
       "    }\n",
       "\n",
       "    .dataframe tbody tr th {\n",
       "        vertical-align: top;\n",
       "    }\n",
       "\n",
       "    .dataframe thead th {\n",
       "        text-align: right;\n",
       "    }\n",
       "</style>\n",
       "<table border=\"1\" class=\"dataframe\">\n",
       "  <thead>\n",
       "    <tr style=\"text-align: right;\">\n",
       "      <th></th>\n",
       "      <th>Y</th>\n",
       "      <th>Relation</th>\n",
       "      <th>X</th>\n",
       "    </tr>\n",
       "  </thead>\n",
       "  <tbody>\n",
       "    <tr>\n",
       "      <th>3</th>\n",
       "      <td>design</td>\n",
       "      <td>is a</td>\n",
       "      <td>trademark</td>\n",
       "    </tr>\n",
       "    <tr>\n",
       "      <th>12</th>\n",
       "      <td>risks</td>\n",
       "      <td>include</td>\n",
       "      <td>threats</td>\n",
       "    </tr>\n",
       "    <tr>\n",
       "      <th>24</th>\n",
       "      <td>plan</td>\n",
       "      <td>include</td>\n",
       "      <td>roles</td>\n",
       "    </tr>\n",
       "  </tbody>\n",
       "</table>\n",
       "</div>"
      ],
      "text/plain": [
       "         Y   Relation          X\n",
       "3   design      is a   trademark\n",
       "12   risks   include     threats\n",
       "24    plan   include       roles"
      ]
     },
     "execution_count": 30,
     "metadata": {},
     "output_type": "execute_result"
    }
   ],
   "source": [
    "df_relations =  get_relations(spans)\n",
    "df_relations.head(3)"
   ]
  },
  {
   "cell_type": "markdown",
   "id": "a2032c56-d66c-4af1-8189-e237a0ab9d0a",
   "metadata": {},
   "source": [
    "Before adding these results to the graph, it is best to lemmatise them."
   ]
  },
  {
   "cell_type": "code",
   "execution_count": 31,
   "id": "c6cda4a6-b607-4dbe-970b-b790371a7511",
   "metadata": {},
   "outputs": [],
   "source": [
    "def lemmatize_str(text, nlp):\n",
    "    result = ''\n",
    "    for token in nlp(text):\n",
    "        result += str(token.lemma_)+' '\n",
    "    return result.strip()"
   ]
  },
  {
   "cell_type": "code",
   "execution_count": 32,
   "id": "fd90fca1-bb5b-4727-9ae7-3317e0c6563c",
   "metadata": {},
   "outputs": [],
   "source": [
    "for i in range(len(df_relations)):\n",
    "    df_relations.iloc[i,0] = lemmatize_str(df_relations.iloc[i,0],nlp)\n",
    "    df_relations.iloc[i,1] = lemmatize_str(df_relations.iloc[i,1],nlp)\n",
    "    df_relations.iloc[i,2] = lemmatize_str(df_relations.iloc[i,2],nlp)"
   ]
  },
  {
   "cell_type": "code",
   "execution_count": 33,
   "id": "33f61245-c4f9-4bed-9c19-c2da333b935f",
   "metadata": {},
   "outputs": [
    {
     "data": {
      "text/html": [
       "<div>\n",
       "<style scoped>\n",
       "    .dataframe tbody tr th:only-of-type {\n",
       "        vertical-align: middle;\n",
       "    }\n",
       "\n",
       "    .dataframe tbody tr th {\n",
       "        vertical-align: top;\n",
       "    }\n",
       "\n",
       "    .dataframe thead th {\n",
       "        text-align: right;\n",
       "    }\n",
       "</style>\n",
       "<table border=\"1\" class=\"dataframe\">\n",
       "  <thead>\n",
       "    <tr style=\"text-align: right;\">\n",
       "      <th></th>\n",
       "      <th>Y</th>\n",
       "      <th>Relation</th>\n",
       "      <th>X</th>\n",
       "    </tr>\n",
       "  </thead>\n",
       "  <tbody>\n",
       "    <tr>\n",
       "      <th>3</th>\n",
       "      <td>design</td>\n",
       "      <td>be a</td>\n",
       "      <td>trademark</td>\n",
       "    </tr>\n",
       "    <tr>\n",
       "      <th>12</th>\n",
       "      <td>risk</td>\n",
       "      <td>include</td>\n",
       "      <td>threat</td>\n",
       "    </tr>\n",
       "    <tr>\n",
       "      <th>24</th>\n",
       "      <td>plan</td>\n",
       "      <td>include</td>\n",
       "      <td>role</td>\n",
       "    </tr>\n",
       "    <tr>\n",
       "      <th>39</th>\n",
       "      <td>list</td>\n",
       "      <td>be a</td>\n",
       "      <td>list</td>\n",
       "    </tr>\n",
       "    <tr>\n",
       "      <th>48</th>\n",
       "      <td>process</td>\n",
       "      <td>include</td>\n",
       "      <td>role</td>\n",
       "    </tr>\n",
       "    <tr>\n",
       "      <th>63</th>\n",
       "      <td>context</td>\n",
       "      <td>be a</td>\n",
       "      <td>combination</td>\n",
       "    </tr>\n",
       "    <tr>\n",
       "      <th>72</th>\n",
       "      <td>process</td>\n",
       "      <td>include</td>\n",
       "      <td>information</td>\n",
       "    </tr>\n",
       "    <tr>\n",
       "      <th>84</th>\n",
       "      <td>process</td>\n",
       "      <td>include</td>\n",
       "      <td>information</td>\n",
       "    </tr>\n",
       "    <tr>\n",
       "      <th>99</th>\n",
       "      <td>avoidance</td>\n",
       "      <td>be a</td>\n",
       "      <td>risk</td>\n",
       "    </tr>\n",
       "    <tr>\n",
       "      <th>111</th>\n",
       "      <td>transference</td>\n",
       "      <td>be a</td>\n",
       "      <td>risk</td>\n",
       "    </tr>\n",
       "    <tr>\n",
       "      <th>130</th>\n",
       "      <td>key stakeholder</td>\n",
       "      <td>especially</td>\n",
       "      <td>stakeholder sponsor</td>\n",
       "    </tr>\n",
       "    <tr>\n",
       "      <th>135</th>\n",
       "      <td>plan</td>\n",
       "      <td>be a</td>\n",
       "      <td>component</td>\n",
       "    </tr>\n",
       "    <tr>\n",
       "      <th>147</th>\n",
       "      <td>mitigation</td>\n",
       "      <td>be a</td>\n",
       "      <td>risk</td>\n",
       "    </tr>\n",
       "    <tr>\n",
       "      <th>158</th>\n",
       "      <td>risk</td>\n",
       "      <td>have</td>\n",
       "      <td>potential impact</td>\n",
       "    </tr>\n",
       "    <tr>\n",
       "      <th>171</th>\n",
       "      <td>acceptance</td>\n",
       "      <td>be a</td>\n",
       "      <td>risk</td>\n",
       "    </tr>\n",
       "  </tbody>\n",
       "</table>\n",
       "</div>"
      ],
      "text/plain": [
       "                   Y    Relation                    X\n",
       "3             design        be a            trademark\n",
       "12              risk     include               threat\n",
       "24              plan     include                 role\n",
       "39              list        be a                 list\n",
       "48           process     include                 role\n",
       "63           context        be a          combination\n",
       "72           process     include          information\n",
       "84           process     include          information\n",
       "99         avoidance        be a                 risk\n",
       "111     transference        be a                 risk\n",
       "130  key stakeholder  especially  stakeholder sponsor\n",
       "135             plan        be a            component\n",
       "147       mitigation        be a                 risk\n",
       "158             risk        have     potential impact\n",
       "171       acceptance        be a                 risk"
      ]
     },
     "execution_count": 33,
     "metadata": {},
     "output_type": "execute_result"
    }
   ],
   "source": [
    "# We can now observe the lemmatised relations\n",
    "df_relations.head(15)"
   ]
  },
  {
   "cell_type": "markdown",
   "id": "3abdbb3f-d2a9-485a-9819-db277c016219",
   "metadata": {},
   "source": [
    "Let's add those newly found relations to the graph as objetct properties first, then link the objects and individuals together:"
   ]
  },
  {
   "cell_type": "code",
   "execution_count": 34,
   "id": "e4b592e3-3a3c-4f0f-83be-208a6a22e062",
   "metadata": {},
   "outputs": [],
   "source": [
    "# Adding the new individuals to the graph first \n",
    "\n",
    "for i in range(len(df_relations)):\n",
    "    indX = URIRef(ns_url+df_relations.iloc[i,2].replace(\" \",\"_\"))\n",
    "    indY = URIRef(ns_url+df_relations.iloc[i,0].replace(\" \",\"_\"))\n",
    "    g.add((indX,RDF.type,OWL.NamedIndividual))\n",
    "    g.add((indY,RDF.type,OWL.NamedIndividual))"
   ]
  },
  {
   "cell_type": "code",
   "execution_count": 35,
   "id": "b5bccaac-3b12-457c-bbe6-3fa26654db25",
   "metadata": {},
   "outputs": [],
   "source": [
    "# Adding the relations\n",
    "\n",
    "for i in range(len(df_relations)):\n",
    "    c = URIRef(ns_url+df_relations.iloc[i,1].replace(\" \",\"_\"))\n",
    "    domain = URIRef(ns_url+df_relations.iloc[i,0].replace(\" \",\"_\"))\n",
    "    # g.add((c,RDF.type,OWL.DatatypeProperty))\n",
    "    g.add((c,RDF.type,OWL.ObjectProperty))\n",
    "    g.add((c,RDFS.domain,domain))\n",
    "    g.add((c,RDFS.range,XSD.string))"
   ]
  },
  {
   "cell_type": "code",
   "execution_count": 36,
   "id": "f1e88a9c-c6e3-4129-b383-39b5138559b4",
   "metadata": {},
   "outputs": [],
   "source": [
    "# Combining the object properties as Subject-Property-Subject patterns\n",
    "\n",
    "for i in range(len(df_relations)):\n",
    "    indX = URIRef(ns_url+df_relations.iloc[i,2].replace(\" \",\"_\"))\n",
    "    indY = URIRef(ns_url+df_relations.iloc[i,0].replace(\" \",\"_\"))\n",
    "    X_Y_property = URIRef(ns_url+df_relations.iloc[i,1].replace(\" \",\"_\"))\n",
    "    g.add( (indY, X_Y_property, indX) )"
   ]
  },
  {
   "cell_type": "markdown",
   "id": "4f5cf9cf-76dc-4b87-b840-ac36c7bf403e",
   "metadata": {},
   "source": [
    "## Extrating Subject - Verb - Object Relations"
   ]
  },
  {
   "cell_type": "code",
   "execution_count": 37,
   "id": "51899389-0986-487a-8542-b84553601270",
   "metadata": {},
   "outputs": [],
   "source": [
    "# Initializing the TextaCy Extractor\n",
    "extractor = textacy.extract\n",
    "\n",
    "# Extracting all verbal phrases\n",
    "df_verb_ph = extractor.subject_verb_object_triples(docs[0])\n",
    "\n",
    "#Storing the results in the dataframe\n",
    "d = { 'Subject': [], 'Verb': [] , 'Object' : [] }\n",
    "\n",
    "for i in df_verb_ph:\n",
    "    subject = str(i.subject[0].lemma_)\n",
    "    for j in range(1,len(i.subject)):\n",
    "        subject += \" \"+str(i.subject[j].lemma_)\n",
    "    d['Subject'].append(subject)\n",
    "    \n",
    "    verb = str(i.verb[0].lemma_)   \n",
    "    for j in range(1,len(i.verb)):\n",
    "        verb += \" \"+str(i.verb[j].lemma_)\n",
    "    d['Verb'].append(verb)  \n",
    "        \n",
    "    obj = str(i.object[0].lemma_)\n",
    "    for j in range(1,len(i.object)):\n",
    "        obj += \" \"+str(i.object[j].lemma_)\n",
    "    d['Object'].append(obj) \n",
    "        \n",
    "    #print(subject,verb,obj)\n",
    "\n",
    "df_verb_ph = pd.DataFrame(data=d)"
   ]
  },
  {
   "cell_type": "markdown",
   "id": "c25f8226-633c-4107-85e9-53903c93ea77",
   "metadata": {},
   "source": [
    "We notice that some fields are far too long to be added to the graph as is. REducing the size of those fields is, thus, required. To do so, we simply limit the results to those with a length lower than an arbitrary value of 4."
   ]
  },
  {
   "cell_type": "code",
   "execution_count": 38,
   "id": "2bf05f56-c696-4403-acfd-b16dc82f0ab0",
   "metadata": {},
   "outputs": [],
   "source": [
    "drop_idc = []\n",
    "for i in range(len(df_verb_ph)):\n",
    "    if ( (len(df_verb_ph.iloc[i,0].split()) > 4) | (len(df_verb_ph.iloc[i,1].split()) > 4 ) | (len(df_verb_ph.iloc[i,2].split()) > 4) ):\n",
    "        drop_idc.append(i)\n",
    "        \n",
    "df_verb_ph = df_verb_ph.drop(drop_idc, axis=0)"
   ]
  },
  {
   "cell_type": "code",
   "execution_count": 39,
   "id": "34a52a0e-2d5e-4664-a217-2c1a9de618b8",
   "metadata": {},
   "outputs": [
    {
     "data": {
      "text/html": [
       "<div>\n",
       "<style scoped>\n",
       "    .dataframe tbody tr th:only-of-type {\n",
       "        vertical-align: middle;\n",
       "    }\n",
       "\n",
       "    .dataframe tbody tr th {\n",
       "        vertical-align: top;\n",
       "    }\n",
       "\n",
       "    .dataframe thead th {\n",
       "        text-align: right;\n",
       "    }\n",
       "</style>\n",
       "<table border=\"1\" class=\"dataframe\">\n",
       "  <thead>\n",
       "    <tr style=\"text-align: right;\">\n",
       "      <th></th>\n",
       "      <th>Subject</th>\n",
       "      <th>Verb</th>\n",
       "      <th>Object</th>\n",
       "    </tr>\n",
       "  </thead>\n",
       "  <tbody>\n",
       "    <tr>\n",
       "      <th>0</th>\n",
       "      <td>institute project management isbn</td>\n",
       "      <td>publish</td>\n",
       "      <td>institute fax org internet</td>\n",
       "    </tr>\n",
       "    <tr>\n",
       "      <th>1</th>\n",
       "      <td>list pmi mark</td>\n",
       "      <td>send</td>\n",
       "      <td>comment</td>\n",
       "    </tr>\n",
       "    <tr>\n",
       "      <th>2</th>\n",
       "      <td>discount</td>\n",
       "      <td>resale</td>\n",
       "      <td>purpose</td>\n",
       "    </tr>\n",
       "    <tr>\n",
       "      <th>3</th>\n",
       "      <td>part work</td>\n",
       "      <td>contact</td>\n",
       "      <td>o box</td>\n",
       "    </tr>\n",
       "    <tr>\n",
       "      <th>4</th>\n",
       "      <td>order pmi org</td>\n",
       "      <td>print</td>\n",
       "      <td>states america</td>\n",
       "    </tr>\n",
       "    <tr>\n",
       "      <th>...</th>\n",
       "      <td>...</td>\n",
       "      <td>...</td>\n",
       "      <td>...</td>\n",
       "    </tr>\n",
       "    <tr>\n",
       "      <th>1254</th>\n",
       "      <td>objective risk</td>\n",
       "      <td>link</td>\n",
       "      <td>objective result</td>\n",
       "    </tr>\n",
       "    <tr>\n",
       "      <th>1255</th>\n",
       "      <td>barrier template</td>\n",
       "      <td>tool</td>\n",
       "      <td>technique</td>\n",
       "    </tr>\n",
       "    <tr>\n",
       "      <th>1257</th>\n",
       "      <td>risk interrelationship</td>\n",
       "      <td>risk</td>\n",
       "      <td>response interaction</td>\n",
       "    </tr>\n",
       "    <tr>\n",
       "      <th>1258</th>\n",
       "      <td>management plan trigger condition</td>\n",
       "      <td>plan</td>\n",
       "      <td>risk response</td>\n",
       "    </tr>\n",
       "    <tr>\n",
       "      <th>1259</th>\n",
       "      <td>datum</td>\n",
       "      <td>uncertaintyplan</td>\n",
       "      <td>project risk management</td>\n",
       "    </tr>\n",
       "  </tbody>\n",
       "</table>\n",
       "<p>888 rows × 3 columns</p>\n",
       "</div>"
      ],
      "text/plain": [
       "                                Subject             Verb  \\\n",
       "0     institute project management isbn          publish   \n",
       "1                         list pmi mark             send   \n",
       "2                              discount           resale   \n",
       "3                             part work          contact   \n",
       "4                         order pmi org            print   \n",
       "...                                 ...              ...   \n",
       "1254                     objective risk             link   \n",
       "1255                   barrier template             tool   \n",
       "1257             risk interrelationship             risk   \n",
       "1258  management plan trigger condition             plan   \n",
       "1259                              datum  uncertaintyplan   \n",
       "\n",
       "                          Object  \n",
       "0     institute fax org internet  \n",
       "1                        comment  \n",
       "2                        purpose  \n",
       "3                          o box  \n",
       "4                 states america  \n",
       "...                          ...  \n",
       "1254            objective result  \n",
       "1255                   technique  \n",
       "1257        response interaction  \n",
       "1258               risk response  \n",
       "1259     project risk management  \n",
       "\n",
       "[888 rows x 3 columns]"
      ]
     },
     "execution_count": 39,
     "metadata": {},
     "output_type": "execute_result"
    }
   ],
   "source": [
    "df_verb_ph"
   ]
  },
  {
   "cell_type": "code",
   "execution_count": 40,
   "id": "40df53af-bd27-4401-8462-b9dc9d4059e7",
   "metadata": {},
   "outputs": [],
   "source": [
    "# Adding domains for the verbs as a list of their synonyms\n",
    "syns = []\n",
    "\n",
    "for i in range(len(df_verb_ph)):\n",
    "    syns.append(synonym(df_verb_ph.iloc[i,1]))\n",
    "\n",
    "df_verb_ph.insert(len(df_verb_ph.columns), 'verb_syns',syns)"
   ]
  },
  {
   "cell_type": "code",
   "execution_count": 41,
   "id": "627a9988-1f23-4641-960f-c854c90a26a3",
   "metadata": {},
   "outputs": [],
   "source": [
    "# Adding the new individuals to the graph first \n",
    "\n",
    "for i in range(len(df_verb_ph)):\n",
    "    obj = URIRef(ns_url+df_verb_ph.iloc[i,2].replace(\" \",\"_\"))\n",
    "    subj = URIRef(ns_url+df_verb_ph.iloc[i,0].replace(\" \",\"_\"))\n",
    "    g.add((obj,RDF.type,OWL.NamedIndividual))\n",
    "    g.add((subj,RDF.type,OWL.NamedIndividual))"
   ]
  },
  {
   "cell_type": "code",
   "execution_count": 42,
   "id": "3f5901d6-b0cf-4d97-9374-bfc100398fc2",
   "metadata": {},
   "outputs": [],
   "source": [
    "# Adding the relations\n",
    "\n",
    "for i in range(len(df_verb_ph)):\n",
    "    c = URIRef(ns_url+df_verb_ph.iloc[i,1].replace(\" \",\"_\"))\n",
    "    domain = [ elem.replace(\" \",\"_\") for elem in df_verb_ph.iloc[i,3] ]\n",
    "    domain = URIRef(ns_url+df_verb_ph.iloc[i,1].replace(\" \",\"_\")+'#domain')\n",
    "    # g.add((c,RDF.type,OWL.DatatypeProperty))\n",
    "    g.add((c,RDF.type,OWL.ObjectProperty))\n",
    "    g.add((c,RDFS.domain,domain))\n",
    "    g.add((c,RDFS.range,XSD.string))"
   ]
  },
  {
   "cell_type": "code",
   "execution_count": 43,
   "id": "c46e1ff2-dcb2-468a-8a48-de01223ee339",
   "metadata": {},
   "outputs": [],
   "source": [
    "# Combining the object properties as Subject-Property-Subject patterns\n",
    "\n",
    "for i in range(len(df_verb_ph)):\n",
    "    indX = URIRef(ns_url+df_verb_ph.iloc[i,2].replace(\" \",\"_\"))\n",
    "    indY = URIRef(ns_url+df_verb_ph.iloc[i,0].replace(\" \",\"_\"))\n",
    "    X_Y_property = URIRef(ns_url+df_verb_ph.iloc[i,1].replace(\" \",\"_\"))\n",
    "    g.add( (indY, X_Y_property, indX) )"
   ]
  },
  {
   "cell_type": "markdown",
   "id": "d5b176fd-84f3-48dd-858f-ff130985c4fb",
   "metadata": {
    "tags": []
   },
   "source": [
    "# Exporting the OWL graph"
   ]
  },
  {
   "cell_type": "code",
   "execution_count": 72,
   "id": "8995bb1e-187b-4b4f-9de5-ca16be6c94af",
   "metadata": {},
   "outputs": [],
   "source": [
    "timestr = time.strftime(\"%Y%m%d-%H%M%S\")\n",
    "with open(\"./owl/\"+timestr+'.owl', 'w') as output:\n",
    "    output.write(g.serialize(format=\"nt\"))     "
   ]
  }
 ],
 "metadata": {
  "kernelspec": {
   "display_name": "Python 3 (ipykernel)",
   "language": "python",
   "name": "python3"
  },
  "language_info": {
   "codemirror_mode": {
    "name": "ipython",
    "version": 3
   },
   "file_extension": ".py",
   "mimetype": "text/x-python",
   "name": "python",
   "nbconvert_exporter": "python",
   "pygments_lexer": "ipython3",
   "version": "3.8.12"
  }
 },
 "nbformat": 4,
 "nbformat_minor": 5
}
